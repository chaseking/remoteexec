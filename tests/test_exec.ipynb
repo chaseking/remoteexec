{
 "cells": [
  {
   "cell_type": "code",
   "execution_count": 2,
   "metadata": {},
   "outputs": [],
   "source": [
    "from pathlib import Path\n",
    "import subprocess"
   ]
  },
  {
   "cell_type": "code",
   "execution_count": 23,
   "metadata": {},
   "outputs": [
    {
     "name": "stdout",
     "output_type": "stream",
     "text": [
      "Syncing /Users/chase/Documents/remoteexec/examples/hello_world.py to axon:~/TEST/\n"
     ]
    },
    {
     "name": "stderr",
     "output_type": "stream",
     "text": [
      "/etc/profile.d/lang.sh: line 19: warning: setlocale: LC_CTYPE: cannot change locale (C.UTF-8)\n"
     ]
    },
    {
     "name": "stdout",
     "output_type": "stream",
     "text": [
      "Transfer starting: 1 files\n",
      "hello_world.py\n",
      "             69 100%  452.20KB/s   00:00:00 (xfer#1, to-check=0/1)\n",
      "\n",
      "sent 185 bytes  received 48 bytes  3472 bytes/sec\n",
      "total size is 69  speedup is 0.30\n"
     ]
    },
    {
     "data": {
      "text/plain": [
       "CompletedProcess(args=['rsync', '-avz', '--progress', '/Users/chase/Documents/remoteexec/examples/hello_world.py', 'axon:~/TEST/'], returncode=0)"
      ]
     },
     "execution_count": 23,
     "metadata": {},
     "output_type": "execute_result"
    }
   ],
   "source": [
    "to_copy = Path().resolve().parent / \"examples\" / \"hello_world.py\"\n",
    "remote_host = \"axon\"\n",
    "remote_dir = \"~/TEST/\"\n",
    "\n",
    "# Step 1: Rsync folder to remote host\n",
    "rsync_cmd = [\n",
    "    \"rsync\", \"-avz\", \"--progress\",\n",
    "    str(to_copy), f\"{remote_host}:{remote_dir}\"\n",
    "]\n",
    "\n",
    "print(f\"Syncing {to_copy} to {remote_host}:{remote_dir}\")\n",
    "subprocess.run(rsync_cmd, check=True)"
   ]
  },
  {
   "cell_type": "code",
   "execution_count": 33,
   "metadata": {},
   "outputs": [
    {
     "name": "stdout",
     "output_type": "stream",
     "text": [
      "/etc/profile.d/lang.sh: line 19: warning: setlocale: LC_CTYPE: cannot change locale (C.UTF-8)\n",
      "\n",
      "Hello world!\n",
      "\n",
      "Hello again!\n",
      "\n"
     ]
    },
    {
     "data": {
      "text/plain": [
       "0"
      ]
     },
     "execution_count": 33,
     "metadata": {},
     "output_type": "execute_result"
    }
   ],
   "source": [
    "import threading\n",
    "ssh_cmd = [\n",
    "    \"ssh\", f\"{remote_host}\",\n",
    "    f\"cd {remote_dir} && python {to_copy.name}\"\n",
    "]\n",
    "process = subprocess.Popen(\n",
    "    ssh_cmd,\n",
    "    stdout=subprocess.PIPE,\n",
    "    stderr=subprocess.STDOUT,\n",
    "    # text=True,\n",
    "    encoding=\"utf-8\"\n",
    "    # bufsize=1,  # Line-buffered output\n",
    "    # universal_newlines=True\n",
    ")\n",
    "\n",
    "for line in iter(process.stdout.readline, \"\"):\n",
    "    print(line)\n",
    "\n",
    "\n",
    "# if process.returncode != 0:\n",
    "#     print(f\"Remote command exited with status {process.returncode}\")\n",
    "#     return process.returncode\n",
    "# else:\n",
    "#     return 0\n"
   ]
  },
  {
   "cell_type": "code",
   "execution_count": null,
   "metadata": {},
   "outputs": [],
   "source": []
  }
 ],
 "metadata": {
  "kernelspec": {
   "display_name": "base",
   "language": "python",
   "name": "python3"
  },
  "language_info": {
   "codemirror_mode": {
    "name": "ipython",
    "version": 3
   },
   "file_extension": ".py",
   "mimetype": "text/x-python",
   "name": "python",
   "nbconvert_exporter": "python",
   "pygments_lexer": "ipython3",
   "version": "3.12.2"
  }
 },
 "nbformat": 4,
 "nbformat_minor": 2
}
